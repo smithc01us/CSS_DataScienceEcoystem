{
 "cells": [
  {
   "cell_type": "markdown",
   "id": "538974a5",
   "metadata": {},
   "source": [
    "# H1: Data Science Tools and Ecosystem"
   ]
  },
  {
   "cell_type": "markdown",
   "id": "3ca998a1",
   "metadata": {},
   "source": [
    "# In this notebook, Data Science Tools and Ecosystem are summarized"
   ]
  },
  {
   "cell_type": "markdown",
   "id": "75099415",
   "metadata": {},
   "source": [
    "**Objectives:**\n",
    "* List commonly used languages for data science\n",
    "* List commonly used libraries used by data scientists\n",
    "* List different development environments used in data science"
   ]
  },
  {
   "cell_type": "markdown",
   "id": "c8bf507a",
   "metadata": {},
   "source": [
    "# Some of the popular languages that Data Scients use are:\n",
    "1. Python\n",
    "2. R\n",
    "3. C++"
   ]
  },
  {
   "cell_type": "markdown",
   "id": "23533d84",
   "metadata": {},
   "source": [
    "# Some of the commonly used libraries used by Data Scientists include:\n",
    "1. Pandas \n",
    "2. NumPy\n",
    "3. MatPlotLib\n"
   ]
  },
  {
   "cell_type": "markdown",
   "id": "7fdeb22d",
   "metadata": {},
   "source": [
    "| Data Science Tools|\n",
    "|-------------------|\n",
    "| RStudio|\n",
    "| Jupyter|\n",
    "| Watson Studio|"
   ]
  },
  {
   "cell_type": "markdown",
   "id": "0a58d6e8",
   "metadata": {},
   "source": [
    "### h3: Below are a few examples of evaluating arithmetic expressions in python"
   ]
  },
  {
   "cell_type": "code",
   "execution_count": 1,
   "id": "26c0722e",
   "metadata": {},
   "outputs": [
    {
     "data": {
      "text/plain": [
       "17"
      ]
     },
     "execution_count": 1,
     "metadata": {},
     "output_type": "execute_result"
    }
   ],
   "source": [
    "# this is a simple arithmetic epression to multiply then add integers\n",
    "(3*4)+5"
   ]
  },
  {
   "cell_type": "code",
   "execution_count": 2,
   "id": "fb955c39",
   "metadata": {},
   "outputs": [
    {
     "data": {
      "text/plain": [
       "3.3333333333333335"
      ]
     },
     "execution_count": 2,
     "metadata": {},
     "output_type": "execute_result"
    }
   ],
   "source": [
    "# This will convert 200 minutes to hours by dividing by 60\n",
    "200 / 60"
   ]
  },
  {
   "cell_type": "markdown",
   "id": "813495d1",
   "metadata": {},
   "source": [
    "## Author\n",
    "# Chris Smith"
   ]
  }
 ],
 "metadata": {
  "kernelspec": {
   "display_name": "Python 3 (ipykernel)",
   "language": "python",
   "name": "python3"
  },
  "language_info": {
   "codemirror_mode": {
    "name": "ipython",
    "version": 3
   },
   "file_extension": ".py",
   "mimetype": "text/x-python",
   "name": "python",
   "nbconvert_exporter": "python",
   "pygments_lexer": "ipython3",
   "version": "3.9.7"
  }
 },
 "nbformat": 4,
 "nbformat_minor": 5
}
